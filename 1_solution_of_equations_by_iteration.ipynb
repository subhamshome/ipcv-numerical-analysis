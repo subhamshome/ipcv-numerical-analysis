{
 "cells": [
  {
   "cell_type": "markdown",
   "metadata": {},
   "source": [
    "Imports"
   ]
  },
  {
   "cell_type": "code",
   "execution_count": 3,
   "metadata": {},
   "outputs": [],
   "source": [
    "import numpy as np\n",
    "import math\n",
    "from cmath import inf"
   ]
  },
  {
   "cell_type": "markdown",
   "metadata": {},
   "source": [
    "Exercise 1\n",
    "Part 1 - Newton's Method"
   ]
  },
  {
   "cell_type": "code",
   "execution_count": 4,
   "metadata": {},
   "outputs": [
    {
     "name": "stdout",
     "output_type": "stream",
     "text": [
      "known root of f(x) =  1\n",
      "estimate = 1.0078\n",
      "number of iterations = 7\n"
     ]
    }
   ],
   "source": [
    "f = lambda x: x**2 - 2*x + 1\n",
    "f_prime = lambda x: 2*x - 2\n",
    "print(\"known root of f(x) = \", 1)\n",
    "\n",
    "def newton_method(f, df, x0, eps):\n",
    "    c = 0\n",
    "    while(abs(f(x0)) > eps):\n",
    "        if abs(x0) == inf:\n",
    "            return(\"ERROR: df is not defined after step \", c)\n",
    "        elif df(x0) == 0:\n",
    "            return(\"ERROR: Denominator of f(x) becomes zero after step \", c)\n",
    "        c += 1\n",
    "        x0 = x0 - f(x0)/df(x0)\n",
    "        \n",
    "    return (x0, c)\n",
    "\n",
    "result = newton_method(f, f_prime, 2, 1e-4)\n",
    "estimate = result[0]\n",
    "print(\"estimate =\", round(estimate,4))\n",
    "print(\"number of iterations =\", result[1])"
   ]
  },
  {
   "cell_type": "markdown",
   "metadata": {},
   "source": [
    "Exercise 1\n",
    "Part 2 - Secant Method"
   ]
  },
  {
   "cell_type": "code",
   "execution_count": 5,
   "metadata": {},
   "outputs": [
    {
     "name": "stdout",
     "output_type": "stream",
     "text": [
      "known root of f(x) =  1\n",
      "estimated value of root = 1.0053\n",
      "number of iterations = 11\n"
     ]
    }
   ],
   "source": [
    "f = lambda x: x**2 - 2*x + 1\n",
    "print(\"known root of f(x) = \", 1)\n",
    "\n",
    "def secant_method(f, x0, x1, eps):\n",
    "    c = 0\n",
    "\n",
    "    while(abs(f(x0)) > eps):\n",
    "        c += 1\n",
    "        if(int((f(x0)*int(1/eps))) == int((f(x1)*int(1/eps)))):\n",
    "            return(\"ERROR: Denominator becomes zero after step \", c)\n",
    "        x2 = x0 - (x1-x0)*f(x0)/(f(x1) - f(x0))\n",
    "        x0 = x1\n",
    "        x1 = x2\n",
    " \n",
    "    return (x2, c)\n",
    "\n",
    "result = secant_method(f, 3, 2, 1e-4)\n",
    "estimate = result[0]\n",
    "print(\"estimated value of root =\", round(estimate,4))\n",
    "print(\"number of iterations =\", result[1])"
   ]
  },
  {
   "cell_type": "markdown",
   "metadata": {},
   "source": [
    "Exercise 1 Part 3 - Bisection Method"
   ]
  },
  {
   "cell_type": "code",
   "execution_count": 6,
   "metadata": {},
   "outputs": [
    {
     "name": "stdout",
     "output_type": "stream",
     "text": [
      "known root of f(x) =  3.51154\n",
      "estimated value of root = 3.5115\n",
      "number of iterations = 14\n"
     ]
    }
   ],
   "source": [
    "f = lambda x: x**3 - 4*x**2 + 2*x -1\n",
    "print(\"known root of f(x) = \", 3.51154)\n",
    "\n",
    "def bisection_method(f, a, b, eps):\n",
    "    count = 0\n",
    "    if (f(a) * f(b) >= 0):\n",
    "        return(\"ERROR: Right and left sides are not correctly assumed\", 0)\n",
    "    c = a\n",
    "    while ((b-a) >= eps):\n",
    "        c = (a+b)/2\n",
    "        if (f(c) == 0.0):\n",
    "            count += 1\n",
    "            break\n",
    "        if (f(c)*f(a) < 0):\n",
    "            count += 1\n",
    "            b = c\n",
    "        else:\n",
    "            count += 1\n",
    "            a = c\n",
    "    return (c, count)\n",
    "\n",
    "result = bisection_method(f, 3, 4, 1e-4)\n",
    "estimate = result[0]\n",
    "print(\"estimated value of root =\", round(estimate,4))\n",
    "print(\"number of iterations =\", result[1])"
   ]
  },
  {
   "cell_type": "markdown",
   "metadata": {},
   "source": [
    "Exercise 2"
   ]
  },
  {
   "cell_type": "code",
   "execution_count": 7,
   "metadata": {},
   "outputs": [
    {
     "name": "stdout",
     "output_type": "stream",
     "text": [
      "Newton's Method = 1.3688081886175318\n",
      "Secant Method = 1.3688081077828753\n",
      "Bisection Method = 1.36883544921875\n"
     ]
    }
   ],
   "source": [
    "f = lambda x: x**3 + 2*x**2 + 10*x - 20\n",
    "f_prime = lambda x: 3*x**2 + 4*x + 10\n",
    "\n",
    "result_newton = newton_method(f, f_prime, 1, 1e-4)\n",
    "result_secant = secant_method(f, 1, 2, 1e-4)\n",
    "result_bisection = bisection_method(f, 1, 2, 1e-4)\n",
    "\n",
    "estimate_newton = result_newton[0]\n",
    "estimate_secant = result_secant[0]\n",
    "estimate_bisection = result_bisection[0]\n",
    "\n",
    "print(\"Newton's Method =\", estimate_newton)\n",
    "print(\"Secant Method =\", estimate_secant)\n",
    "print(\"Bisection Method =\", estimate_bisection)"
   ]
  },
  {
   "cell_type": "markdown",
   "metadata": {},
   "source": [
    "Exercise 3"
   ]
  },
  {
   "cell_type": "code",
   "execution_count": 8,
   "metadata": {},
   "outputs": [
    {
     "name": "stdout",
     "output_type": "stream",
     "text": [
      "Newton's Method = ERROR: Denominator of f(x) becomes zero after step 1\n",
      "Secant Method = ERROR: Denominator becomes zero after step 3\n",
      "Bisection Method = ERROR: Right and left sides are not correctly assumed\n"
     ]
    }
   ],
   "source": [
    "f = lambda x: np.tanh(x)\n",
    "f_prime = lambda x: 1-(np.tanh(x))**2\n",
    "\n",
    "result_newton = newton_method(f, f_prime, -5, 1e-4)\n",
    "result_secant = secant_method(f, -5, -4, 1e-4)\n",
    "result_bisection = bisection_method(f, 5, 10, 1e-4)\n",
    "\n",
    "if \"ERROR\" in str(result_newton[0]):\n",
    "    estimate_newton = result_newton[0] + str(result_newton[1])\n",
    "else:\n",
    "    estimate_newton = result_newton[0]\n",
    "if \"ERROR\" in str(result_secant[0]):\n",
    "    estimate_secant = result_secant[0] + str(result_secant[1])\n",
    "else:\n",
    "    estimate_secant = result_secant[0]\n",
    "\n",
    "estimate_bisection = result_bisection[0]\n",
    "\n",
    "print(\"Newton's Method =\", estimate_newton)\n",
    "print(\"Secant Method =\", estimate_secant)\n",
    "print(\"Bisection Method =\", estimate_bisection)"
   ]
  },
  {
   "cell_type": "markdown",
   "metadata": {},
   "source": [
    "Exercise 4"
   ]
  },
  {
   "cell_type": "code",
   "execution_count": 34,
   "metadata": {},
   "outputs": [
    {
     "name": "stdout",
     "output_type": "stream",
     "text": [
      "Estimated Root = 1.3689\n",
      "Number of Iterations = 12\n",
      "Stopping Criterion = 13\n"
     ]
    }
   ],
   "source": [
    "import math\n",
    "\n",
    "f = lambda x: 20/(x**2+2*x+10)\n",
    "\n",
    "def iteration_method(f, x0, eps, L):\n",
    "    x1 = f(x0) # 1st iteration\n",
    "    step = 1 # since 1st is already performed in the previous line\n",
    "    c = math.floor((np.log(abs((x1-x0))) - np.log(eps*(1-L)))/(np.log(1/L))) + 1\n",
    "    while(abs(f(x0)-x0) > eps):\n",
    "        x0 = f(x0)\n",
    "        step += 1\n",
    "    return x0, step, c\n",
    "\n",
    "result = iteration_method(f, 1, 1e-4, 0.4733)\n",
    "estimate = result[0]\n",
    "print(\"Estimated Root =\", round(estimate,4))\n",
    "print(\"Number of Iterations =\", result[1])\n",
    "print(\"Stopping Criterion =\", result[2])"
   ]
  },
  {
   "cell_type": "code",
   "execution_count": null,
   "metadata": {},
   "outputs": [],
   "source": []
  }
 ],
 "metadata": {
  "kernelspec": {
   "display_name": "Python 3.9.5 64-bit",
   "language": "python",
   "name": "python3"
  },
  "language_info": {
   "codemirror_mode": {
    "name": "ipython",
    "version": 3
   },
   "file_extension": ".py",
   "mimetype": "text/x-python",
   "name": "python",
   "nbconvert_exporter": "python",
   "pygments_lexer": "ipython3",
   "version": "3.9.5"
  },
  "orig_nbformat": 4,
  "vscode": {
   "interpreter": {
    "hash": "06b52556b0198e5590da0b57d40c505500efc10bc0764603b68b7ee1001d9658"
   }
  }
 },
 "nbformat": 4,
 "nbformat_minor": 2
}
