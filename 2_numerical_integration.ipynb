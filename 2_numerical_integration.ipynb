{
 "cells": [
  {
   "cell_type": "markdown",
   "metadata": {},
   "source": [
    "Exercise 1"
   ]
  },
  {
   "cell_type": "code",
   "execution_count": 56,
   "metadata": {},
   "outputs": [
    {
     "name": "stdout",
     "output_type": "stream",
     "text": [
      "Known value of integration of f(x)=sin(x) in given range(0, pi/2) = 1\n"
     ]
    }
   ],
   "source": [
    "# import libraries and initialize parameters\n",
    "\n",
    "import numpy as np\n",
    "import matplotlib.pyplot as plt\n",
    "\n",
    "f = lambda x: np.sin(x)\n",
    "a = 0\n",
    "b = np.pi/2\n",
    "print('Known value of integration of f(x)=sin(x) in given range(0, pi/2) = 1')\n",
    "n = 1000"
   ]
  },
  {
   "cell_type": "markdown",
   "metadata": {},
   "source": [
    "Part (a)"
   ]
  },
  {
   "cell_type": "code",
   "execution_count": 57,
   "metadata": {},
   "outputs": [
    {
     "name": "stdout",
     "output_type": "stream",
     "text": [
      "Value using Composite Midpoint Rule: 0.9999988691079635\n",
      "Value using Composite Trapezoidal Rule: 0.9999997943832337\n",
      "Value using Composite Simpson Rule: 1.000000000000034\n"
     ]
    }
   ],
   "source": [
    "# declare the function\n",
    "f = lambda x: np.sin(x)\n",
    "\n",
    "# defining the functions for the rules\n",
    "\n",
    "# Composite Midpoint Rule\n",
    "def midpoint(f, a, b, n):\n",
    "    h = (b - a)/n\n",
    "    result = 0\n",
    "    for i in range(1,n):\n",
    "        result += f(h/2 + i*h) * h\n",
    "    return result\n",
    "\n",
    "# Composite Trapezoidal Rule\n",
    "def trapezoidal(f, a, b, n):\n",
    "    h = (b - a)/n\n",
    "    result = f(a)*h/2 + f(b)*h/2\n",
    "    for i in range(n):\n",
    "        result += f(i*h) * h\n",
    "    return result\n",
    "\n",
    "# Composite Trapezoidal Rule with wrong parameters at the extreme ends\n",
    "def wrong_trapezoidal(f, a, b, n):\n",
    "    h = (b - a)/n\n",
    "    result = f(a)*h + f(b)*h # wrong parameters here\n",
    "    for i in range(1,n):\n",
    "        result += f(i*h) * h\n",
    "    return result\n",
    "\n",
    "# Composite Simpson rule\n",
    "def simpson(f, a, b, n):\n",
    "    h = (b - a)/n\n",
    "    xi_0 = f(a) + f(b)\n",
    "    xi_odd = 0\n",
    "    xi_even = 0\n",
    "    for i in range(n):\n",
    "        if i%2 == 0:\n",
    "            xi_even += f(i*h)\n",
    "        else:\n",
    "            xi_odd += f(i*h)\n",
    "    xI = (xi_0 + 2*xi_even + 4*xi_odd)*h/3 \n",
    "    return xI\n",
    "\n",
    "\n",
    "print(\"Value using Composite Midpoint Rule:\", midpoint(f, a, b, n))\n",
    "print(\"Value using Composite Trapezoidal Rule:\", trapezoidal(f, a, b, n))\n",
    "print(\"Value using Composite Simpson Rule:\", simpson(f, a, b, n))"
   ]
  },
  {
   "cell_type": "markdown",
   "metadata": {},
   "source": [
    "Part (b)"
   ]
  },
  {
   "cell_type": "code",
   "execution_count": 58,
   "metadata": {},
   "outputs": [
    {
     "name": "stdout",
     "output_type": "stream",
     "text": [
      "Convergence for Composite Midpoint Rule =  1.99999950938828\n",
      "Convergence for Composite Trapezoidal Rule: =  2.000000166426986\n",
      "Convergence for Composite Simpson Rule =  3.9857606332167435\n",
      "Convergence for Wrong Composite Trapezoidal Rule: =  0.9996310139804283\n",
      "\n"
     ]
    },
    {
     "data": {
      "image/png": "[encoded data removed]",
      "text/plain": [
       "<Figure size 432x288 with 1 Axes>"
      ]
     },
     "metadata": {
      "needs_background": "light"
     },
     "output_type": "display_data"
    }
   ],
   "source": [
    "# declaring parameters for the plot\n",
    "\n",
    "max = 10\n",
    "h = [0]*max\n",
    "count = [0]*max\n",
    "rate_midpoint = [0]*max\n",
    "rate_trapezoidal = [0]*max\n",
    "rate_wrong_trapezoidal = [0]*max\n",
    "rate_simpson = [0]*max\n",
    "val = [0]*max\n",
    "\n",
    "for i in range(1,max):\n",
    "    count[i] = i\n",
    "    val[i] = 1 * pow(2,i)\n",
    "    h[i] = (b-a)/(i)\n",
    "    rate_midpoint[i] += np.log2((1-midpoint(f, a, b, val[i]))/(1-midpoint(f, a, b, val[i]*2)))\n",
    "    rate_trapezoidal[i] += np.log2((1-trapezoidal(f, a, b, val[i]))/(1-trapezoidal(f, a, b, val[i]*2)))\n",
    "    rate_wrong_trapezoidal[i] += np.log2((1-wrong_trapezoidal(f, a, b, val[i]))/(1-wrong_trapezoidal(f, a, b, val[i]*2)))\n",
    "    rate_simpson[i] += np.log2((1-simpson(f, a, b, val[i]))/(1-simpson(f, a, b, val[i]*2)))\n",
    "    \n",
    "\n",
    "print(\"Convergence for Composite Midpoint Rule = \", rate_midpoint[-1])\n",
    "print(\"Convergence for Composite Trapezoidal Rule: = \", rate_trapezoidal[-1])\n",
    "print(\"Convergence for Composite Simpson Rule = \", rate_simpson[-1])\n",
    "print(\"Convergence for Wrong Composite Trapezoidal Rule: = \", rate_wrong_trapezoidal[-1])\n",
    "print()\n",
    "\n",
    "# plotting the convergence rate of the functions\n",
    "plt.plot(count, rate_midpoint, 'green',)\n",
    "plt.plot(count, rate_trapezoidal, 'yellow')\n",
    "plt.plot(count, rate_wrong_trapezoidal, 'red')\n",
    "plt.plot(count, rate_simpson, 'blue')\n",
    "plt.xlabel(\"log2(2^N) = N\")\n",
    "plt.ylabel(\"Rates of Convergence\")\n",
    "plt.title(\"Rates of Convergence\")\n",
    "plt.legend([\"Composite Midpoint rule\", \"Composite Trapezoidal Rule\", \"Wrong Composite Trapezoidal Rule\",\n",
    "            \"Composite Simpson Rule\"], loc=4, fancybox=True, framealpha=0.5)\n",
    "plt.show() #loglog plot\n"
   ]
  },
  {
   "cell_type": "markdown",
   "metadata": {},
   "source": [
    "Exercise 2"
   ]
  },
  {
   "cell_type": "code",
   "execution_count": 63,
   "metadata": {},
   "outputs": [
    {
     "name": "stdout",
     "output_type": "stream",
     "text": [
      "Known solution of the given ODE with the initial parameters =  0.2635396737805913\n"
     ]
    }
   ],
   "source": [
    "# declaring the given function and the parameters\n",
    "\n",
    "f = lambda x: x - np.power(x,3)\n",
    "y0 = 0.1 # initial condition\n",
    "T = 1\n",
    "N = 1000\n",
    "t = 1\n",
    "a = y0/np.sqrt(y0**2 - (y0**2-1)*np.exp(-2*t))\n",
    "print('Known solution of the given ODE with the initial parameters = ', a)\n",
    "# defining simple iteration method for calculating the approximation of Backward Euler and Crank Nicolson methods\n",
    "def iteration_method(f, x0, eps):\n",
    "    while(abs(f(x0)-x0) > eps):\n",
    "        x0 = f(x0)\n",
    "    return x0"
   ]
  },
  {
   "cell_type": "markdown",
   "metadata": {},
   "source": [
    "Part (a)"
   ]
  },
  {
   "cell_type": "code",
   "execution_count": 64,
   "metadata": {},
   "outputs": [
    {
     "name": "stdout",
     "output_type": "stream",
     "text": [
      "Euler Method result:  0.2634285240102893\n",
      "Backward Euler Result:  0.26365097798305975\n",
      "Crank Nicolson Result:  0.263539636354036\n"
     ]
    }
   ],
   "source": [
    "# Euler method\n",
    "def euler_method(f, y0, T, N):\n",
    "    h = T/N\n",
    "    f0 = f(y0)\n",
    "    y0 = y0 + (h*f0)\n",
    "    yt = y0\n",
    "    for i in range(2, N + 1):\n",
    "        f_t = f(yt)\n",
    "        yt = yt + (h*f_t)\n",
    "    return yt\n",
    "\n",
    "# Backward Euler or Implicit Euler method\n",
    "def backward_euler(f, y0, T, N):\n",
    "    h = T/N\n",
    "    for i in range(0, N):\n",
    "        g = lambda x: y0 + h*(f(x))\n",
    "        y0 = iteration_method(g, y0, 1e-15)\n",
    "    return y0\n",
    "\n",
    "# Crank Nicolson method\n",
    "def crank_nicolson(f, y0, T, N):\n",
    "    h = T/(N-1)\n",
    "    for i in range(0, N-1):\n",
    "        g = lambda x: y0 + (h/2)*(f(y0)) + (h/2)*(f(x))\n",
    "        y0 = iteration_method(g, y0, 1e-10)\n",
    "    return y0\n",
    "\n",
    "print(\"Euler Method result: \", euler_method(f, y0, T, N))\n",
    "print(\"Backward Euler Result: \", backward_euler(f, y0, T, N))\n",
    "print(\"Crank Nicolson Result: \", crank_nicolson(f, y0, T, N))\n"
   ]
  },
  {
   "cell_type": "markdown",
   "metadata": {},
   "source": [
    "Part (b)"
   ]
  },
  {
   "cell_type": "code",
   "execution_count": 65,
   "metadata": {},
   "outputs": [
    {
     "name": "stdout",
     "output_type": "stream",
     "text": [
      "Convergence Rate of Euler Method:  0.9994994110740735\n",
      "Convergence Rate of Backward Euler Method:  1.000500959253812\n",
      "Convergence Rate Crank Nicolson Method:  2.0009043910353967\n"
     ]
    }
   ],
   "source": [
    "# calculating the convergence rates for Euler, Backward Euler and Crank Nicolson methods\n",
    "\n",
    "print(\"Convergence Rate of Euler Method: \", np.log2(abs(a - euler_method(f, y0, T, N))/ abs(a - euler_method(f, y0, T, 2*N))))\n",
    "print(\"Convergence Rate of Backward Euler Method: \", np.log2(abs(a - backward_euler(f, y0, T, N))/abs(a - backward_euler(f, y0, T, 2*N))))\n",
    "print(\"Convergence Rate Crank Nicolson Method: \", np.log2(abs(a - crank_nicolson(f, y0, T, N))/abs(a - crank_nicolson(f, y0, T, 2*N))))"
   ]
  }
 ],
 "metadata": {
  "kernelspec": {
   "display_name": "Python 3.9.12 ('base')",
   "language": "python",
   "name": "python3"
  },
  "language_info": {
   "codemirror_mode": {
    "name": "ipython",
    "version": 3
   },
   "file_extension": ".py",
   "mimetype": "text/x-python",
   "name": "python",
   "nbconvert_exporter": "python",
   "pygments_lexer": "ipython3",
   "version": "3.9.12"
  },
  "orig_nbformat": 4,
  "vscode": {
   "interpreter": {
    "hash": "0333d47818deb67407d5f3e9edda61ae82dfc564f11b654a88c7f0b7e19f0123"
   }
  }
 },
 "nbformat": 4,
 "nbformat_minor": 2
}
