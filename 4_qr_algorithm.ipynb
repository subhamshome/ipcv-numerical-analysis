{
  "cells": [
    {
      "cell_type": "markdown",
      "metadata": {},
      "source": [
        "Exercise 1"
      ]
    },
    {
      "cell_type": "code",
      "execution_count": 34,
      "metadata": {
        "id": "0d7b4115"
      },
      "outputs": [],
      "source": [
        "import numpy as np\n",
        "np.set_printoptions(precision=4)"
      ]
    },
    {
      "cell_type": "markdown",
      "metadata": {},
      "source": [
        "Part (a)"
      ]
    },
    {
      "cell_type": "code",
      "execution_count": 35,
      "metadata": {
        "id": "2be84fed"
      },
      "outputs": [
        {
          "name": "stdout",
          "output_type": "stream",
          "text": [
            "[[ 242. -121.    0.    0.    0.    0.    0.    0.    0.    0.]\n",
            " [-121.  242. -121.    0.    0.    0.    0.    0.    0.    0.]\n",
            " [   0. -121.  242. -121.    0.    0.    0.    0.    0.    0.]\n",
            " [   0.    0. -121.  242. -121.    0.    0.    0.    0.    0.]\n",
            " [   0.    0.    0. -121.  242. -121.    0.    0.    0.    0.]\n",
            " [   0.    0.    0.    0. -121.  242. -121.    0.    0.    0.]\n",
            " [   0.    0.    0.    0.    0. -121.  242. -121.    0.    0.]\n",
            " [   0.    0.    0.    0.    0.    0. -121.  242. -121.    0.]\n",
            " [   0.    0.    0.    0.    0.    0.    0. -121.  242. -121.]\n",
            " [   0.    0.    0.    0.    0.    0.    0.    0. -121.  242.]]\n"
          ]
        }
      ],
      "source": [
        "# Function to define A Matrix\n",
        "def create_a_matrix(n):\n",
        "    A = np.zeros([n, n])\n",
        "    A[0, :2] = [2, -1]\n",
        "    for i in range(1, n-1):\n",
        "        A[i, i-1:i+2] = [-1, 2, -1]\n",
        "    A[n-1, n-2:n] = [-1, 2]\n",
        "    A = (n + 1)**2 * A\n",
        "    \n",
        "    return A\n",
        "\n",
        "A = create_a_matrix(10)\n",
        "print(A)"
      ]
    },
    {
      "cell_type": "markdown",
      "metadata": {
        "id": "L2jsvisk7FMx"
      },
      "source": [
        "Getting the exact values λ_k = 4(n + 1)^2.sin^2(kπ2(n+1))"
      ]
    },
    {
      "cell_type": "code",
      "execution_count": 36,
      "metadata": {
        "id": "c95edf91"
      },
      "outputs": [],
      "source": [
        "# Defining Lambda\n",
        "def get_lambda_values(n):\n",
        "    lambdas = list()\n",
        "    for i in range(1, n + 1):\n",
        "        lambdas.append(4 * (n + 1)**2 * np.sin((i * np.pi) / (2 * (n + 1)))**2)\n",
        "        \n",
        "    return lambdas"
      ]
    },
    {
      "cell_type": "code",
      "execution_count": 37,
      "metadata": {
        "id": "6f8d3e48"
      },
      "outputs": [],
      "source": [
        "# Function defining QR_algorithmrithm\n",
        "def QR_algorithm(A):\n",
        "    Q = np.eye(A.shape[0])\n",
        "    R = A\n",
        "    for k in range(A.shape[1] - 1):\n",
        "        x = R[k:, k]\n",
        "        sign_x1 = x[0] / abs(x[0]) if x[0] != 0 else 1\n",
        "        E1 = np.zeros_like(x)\n",
        "        E1[0] = 1\n",
        "        v = sign_x1 * np.linalg.norm(x) * E1 + x\n",
        "        G = np.eye(len(x)) - 2 / np.dot(v, v.T) * np.outer(v, v)\n",
        "        Q_i = np.eye(A.shape[0])\n",
        "        Q_i[-G.shape[0]:, -G.shape[1]:] = G\n",
        "        R = Q_i @ R\n",
        "        Q = Q @ Q_i\n",
        "    \n",
        "    return Q, R\n",
        "\n",
        "Q, R = QR_algorithm(A)"
      ]
    },
    {
      "cell_type": "code",
      "execution_count": 38,
      "metadata": {},
      "outputs": [
        {
          "name": "stdout",
          "output_type": "stream",
          "text": [
            "[[-0.8944 -0.3586 -0.1952 -0.1231 -0.0848 -0.062  -0.0473 -0.0373 -0.0302\n",
            "   0.051 ]\n",
            " [ 0.4472 -0.7171 -0.3904 -0.2462 -0.1696 -0.124  -0.0947 -0.0747 -0.0604\n",
            "   0.1019]\n",
            " [ 0.      0.5976 -0.5855 -0.3693 -0.2544 -0.1861 -0.142  -0.112  -0.0906\n",
            "   0.1529]\n",
            " [ 0.      0.      0.6831 -0.4924 -0.3392 -0.2481 -0.1894 -0.1493 -0.1208\n",
            "   0.2039]\n",
            " [ 0.      0.      0.      0.7385 -0.4241 -0.3101 -0.2367 -0.1866 -0.1509\n",
            "   0.2548]\n",
            " [ 0.      0.      0.      0.      0.7774 -0.3721 -0.284  -0.224  -0.1811\n",
            "   0.3058]\n",
            " [ 0.      0.      0.      0.      0.      0.8062 -0.3314 -0.2613 -0.2113\n",
            "   0.3568]\n",
            " [ 0.      0.      0.      0.      0.      0.      0.8284 -0.2986 -0.2415\n",
            "   0.4077]\n",
            " [ 0.      0.      0.      0.      0.      0.      0.      0.846  -0.2717\n",
            "   0.4587]\n",
            " [ 0.      0.      0.      0.      0.      0.      0.      0.      0.8604\n",
            "   0.5096]]\n"
          ]
        }
      ],
      "source": [
        "print(Q)"
      ]
    },
    {
      "cell_type": "code",
      "execution_count": 39,
      "metadata": {},
      "outputs": [
        {
          "name": "stdout",
          "output_type": "stream",
          "text": [
            "[[-2.7056e+02  2.1645e+02 -5.4113e+01  0.0000e+00  0.0000e+00  0.0000e+00\n",
            "   0.0000e+00  0.0000e+00  0.0000e+00  0.0000e+00]\n",
            " [ 2.3678e-14 -2.0247e+02  2.3140e+02 -7.2311e+01  0.0000e+00  0.0000e+00\n",
            "   0.0000e+00  0.0000e+00  0.0000e+00  0.0000e+00]\n",
            " [ 1.2889e-14 -5.1891e-15 -1.7713e+02  2.3617e+02 -8.2659e+01  0.0000e+00\n",
            "   0.0000e+00  0.0000e+00  0.0000e+00  0.0000e+00]\n",
            " [ 8.1284e-15 -3.2725e-15 -1.2575e-14 -1.6383e+02  2.3831e+02 -8.9364e+01\n",
            "   0.0000e+00  0.0000e+00  0.0000e+00  0.0000e+00]\n",
            " [ 5.6005e-15 -2.2548e-15 -8.6642e-15 -7.8209e-15 -1.5564e+02  2.3945e+02\n",
            "  -9.4069e+01  0.0000e+00  0.0000e+00  0.0000e+00]\n",
            " [ 4.0953e-15 -1.6488e-15 -6.3357e-15 -5.7190e-15 -3.8752e-15 -1.5008e+02\n",
            "   2.4013e+02 -9.7553e+01  0.0000e+00  0.0000e+00]\n",
            " [ 3.1260e-15 -1.2585e-15 -4.8361e-15 -4.3654e-15 -2.9580e-15  1.0323e-14\n",
            "  -1.4606e+02  2.4057e+02 -1.0024e+02  0.0000e+00]\n",
            " [ 2.4648e-15 -9.9234e-16 -3.8132e-15 -3.4420e-15 -2.3323e-15  8.1393e-15\n",
            "   1.0476e-14 -1.4302e+02  2.4087e+02 -1.0237e+02]\n",
            " [ 1.9935e-15 -8.0260e-16 -3.0841e-15 -2.7839e-15 -1.8864e-15  6.5831e-15\n",
            "   8.4732e-15 -2.9423e-15 -1.4063e+02  2.4109e+02]\n",
            " [-3.3655e-15  1.3550e-15  5.2065e-15  4.6998e-15  3.1846e-15 -1.1114e-14\n",
            "  -1.4304e-14  4.9671e-15  8.3267e-15  6.7834e+01]]\n"
          ]
        }
      ],
      "source": [
        "print(R)"
      ]
    },
    {
      "cell_type": "code",
      "execution_count": 40,
      "metadata": {
        "id": "d22d0bbd"
      },
      "outputs": [],
      "source": [
        "# Tridiagonal Matrix\n",
        "def tridiagonal_matrix(N, p):\n",
        "    a = np.array([N[i, i-1] for i in range(1, N.shape[0])])\n",
        "    b = np.array([N[i, i] for i in range(N.shape[0])])\n",
        "    c = np.array([N[i, i+1] for i in range(N.shape[0] - 1)])\n",
        "    u = [b[0]]\n",
        "    v = [p[0]]\n",
        "    for i in range(1, len(p)):\n",
        "        l = a[i-1] / u[i-1]\n",
        "        u.append(b[i] - l * c[i-1])\n",
        "        v.append(p[i] - l * v[i-1])\n",
        "    X = np.zeros(len(p))\n",
        "    X[-1] = v[-1] / u[-1]\n",
        "    for i in range(len(X) - 2, -1, -1):\n",
        "        assert X[i] == 0\n",
        "        X[i] = (v[i] - c[i] * X[i+1]) / u[i]\n",
        "\n",
        "    return X"
      ]
    },
    {
      "cell_type": "code",
      "execution_count": 41,
      "metadata": {
        "id": "ee6dd69d"
      },
      "outputs": [],
      "source": [
        "# Function to calculate the Eigen Values\n",
        "def eigen_values(A, eps):\n",
        "    eigen_values = list()\n",
        "    while A.shape[0] > 1:\n",
        "        H = A\n",
        "        prev_d = 0\n",
        "        while abs(A[-1, -2]) > eps:\n",
        "            if prev_d == np.round(A[-1, -2], 4):\n",
        "                # Perturbation if needed\n",
        "                M = A[-1, -1] + 0.2\n",
        "            else:\n",
        "                M = A[-1, -1]\n",
        "            prev_d = np.round(A[-1, -2], 4)\n",
        "            Q, R = QR_algorithm(A - M * np.eye(A.shape[0]))\n",
        "            A = R @ Q + M * np.eye(A.shape[0])\n",
        "        eigen_values.append(A[-1, -1])\n",
        "        A = A[:-1, :-1]        \n",
        "    eigen_values.append(A[-1, -1])\n",
        "\n",
        "    return eigen_values        "
      ]
    },
    {
      "cell_type": "code",
      "execution_count": 42,
      "metadata": {
        "colab": {
          "base_uri": "https://localhost:8080/"
        },
        "id": "LluLNH4L08wd",
        "outputId": "ef7cc7e7-eb23-484a-d9fe-4c81da1e34a1"
      },
      "outputs": [
        {
          "name": "stdout",
          "output_type": "stream",
          "text": [
            "Eigen Values from QR Algorithm: \n"
          ]
        },
        {
          "data": {
            "text/plain": [
              "[9.802700385291693,\n",
              " 38.41664505486446,\n",
              " 83.52370238524136,\n",
              " 141.46956685354368,\n",
              " 207.55980913786513,\n",
              " 276.44019086213495,\n",
              " 342.5304331464566,\n",
              " 400.4762976147591,\n",
              " 445.5833549451985,\n",
              " 474.1972996146442]"
            ]
          },
          "execution_count": 42,
          "metadata": {},
          "output_type": "execute_result"
        }
      ],
      "source": [
        "# Eigen Values of A from QR algorithm\n",
        "eigen_from_algo = sorted(eigen_values(A, 1e-4))\n",
        "print(\"Eigen Values from QR Algorithm: \")\n",
        "eigen_from_algo"
      ]
    },
    {
      "cell_type": "code",
      "execution_count": 43,
      "metadata": {},
      "outputs": [
        {
          "name": "stdout",
          "output_type": "stream",
          "text": [
            "Exact Eigen Values: \n"
          ]
        },
        {
          "data": {
            "text/plain": [
              "[9.802700385291631,\n",
              " 38.41664505485415,\n",
              " 83.523702385241,\n",
              " 141.46956685354348,\n",
              " 207.55980913786502,\n",
              " 276.440190862135,\n",
              " 342.53043314645646,\n",
              " 400.47629761475895,\n",
              " 445.5833549451458,\n",
              " 474.19729961470836]"
            ]
          },
          "execution_count": 43,
          "metadata": {},
          "output_type": "execute_result"
        }
      ],
      "source": [
        "lambdas = get_lambda_values(10)\n",
        "print(\"Exact Eigen Values: \")\n",
        "lambdas"
      ]
    },
    {
      "cell_type": "code",
      "execution_count": 44,
      "metadata": {},
      "outputs": [
        {
          "name": "stdout",
          "output_type": "stream",
          "text": [
            "Difference between QR Algorithm and Exact Values: \n"
          ]
        },
        {
          "data": {
            "text/plain": [
              "[6.217248937900877e-14,\n",
              " 1.0309975095879054e-11,\n",
              " 3.694822225952521e-13,\n",
              " 1.9895196601282805e-13,\n",
              " 1.1368683772161603e-13,\n",
              " 5.684341886080802e-14,\n",
              " 1.1368683772161603e-13,\n",
              " 1.7053025658242404e-13,\n",
              " 5.269384928396903e-11,\n",
              " 6.417621989385225e-11]"
            ]
          },
          "execution_count": 44,
          "metadata": {},
          "output_type": "execute_result"
        }
      ],
      "source": [
        "difference_values = abs(np.subtract(eigen_from_algo, lambdas))\n",
        "print(\"Difference between QR Algorithm and Exact Values: \")\n",
        "difference_values.tolist()"
      ]
    },
    {
      "cell_type": "markdown",
      "metadata": {
        "id": "Xw-xPnOG-3TC"
      },
      "source": [
        "Part (b)"
      ]
    },
    {
      "cell_type": "code",
      "execution_count": 45,
      "metadata": {
        "id": "51624e98"
      },
      "outputs": [],
      "source": [
        "# Exact Eigen Vectors\n",
        "def eigen_vectors(n):\n",
        "    eigen_vector = list()\n",
        "    \n",
        "    for j in range(1, n + 1):\n",
        "        eigen_vector.append(np.sin((np.pi * j) / (n + 1)))\n",
        "        \n",
        "    eigen_vector = np.array(eigen_vector)\n",
        "    # Normalizing the values\n",
        "    eigen_vector = eigen_vector / np.linalg.norm(eigen_vector)\n",
        "    \n",
        "    return eigen_vector"
      ]
    },
    {
      "cell_type": "code",
      "execution_count": 46,
      "metadata": {
        "id": "d3eb2360"
      },
      "outputs": [],
      "source": [
        "# Inverse Iteration\n",
        "def inv_iter(A, theta, eps=0.001):\n",
        "    prev_v = np.zeros(A.shape[0])\n",
        "    V = np.ones(A.shape[0]) / np.linalg.norm(np.ones(A.shape[0]))\n",
        "    while np.linalg.norm(abs(V) - abs(prev_v)) > eps:\n",
        "        prev_v = V\n",
        "        u = tridiagonal_matrix(A - theta * np.eye(len(V)), V)\n",
        "        V = u / np.linalg.norm(u)\n",
        "        \n",
        "    return V"
      ]
    },
    {
      "cell_type": "code",
      "execution_count": 47,
      "metadata": {
        "colab": {
          "base_uri": "https://localhost:8080/"
        },
        "id": "ab456e35",
        "outputId": "ad6394aa-bf70-4aa0-ecf9-593e6366c352"
      },
      "outputs": [
        {
          "name": "stdout",
          "output_type": "stream",
          "text": [
            "Smallest Eigen Value =  9.802700385291693\n",
            "\n",
            "Eigen Vectors from Inverse Iteration: \n"
          ]
        },
        {
          "data": {
            "text/plain": [
              "[0.12013116587858114,\n",
              " 0.23053001914523252,\n",
              " 0.32225270127555117,\n",
              " 0.38786838605913326,\n",
              " 0.4220612809463162,\n",
              " 0.4220612809463161,\n",
              " 0.3878683860591332,\n",
              " 0.32225270127555106,\n",
              " 0.23053001914523238,\n",
              " 0.12013116587858105]"
            ]
          },
          "execution_count": 47,
          "metadata": {},
          "output_type": "execute_result"
        }
      ],
      "source": [
        "# Smallest Eigen Value of A\n",
        "eigen_minval = min(eigen_values(A, 1e-4))\n",
        "print(\"Smallest Eigen Value = \", eigen_minval)\n",
        "print()\n",
        "# Eigen Vector corresponding to smallest Eigen Value of A\n",
        "eigen_from_inv_iter = inv_iter(A, eigen_minval)\n",
        "print(\"Eigen Vectors from Inverse Iteration: \")\n",
        "eigen_from_inv_iter.tolist()"
      ]
    },
    {
      "cell_type": "code",
      "execution_count": 48,
      "metadata": {
        "colab": {
          "base_uri": "https://localhost:8080/"
        },
        "id": "aad0f51e",
        "outputId": "a211d7d4-0458-4ff8-ba89-73edef9112b5"
      },
      "outputs": [
        {
          "name": "stdout",
          "output_type": "stream",
          "text": [
            "Exact Eigen Vectors: \n"
          ]
        },
        {
          "data": {
            "text/plain": [
              "[0.12013116587858108,\n",
              " 0.2305300191452324,\n",
              " 0.32225270127555106,\n",
              " 0.3878683860591332,\n",
              " 0.4220612809463161,\n",
              " 0.4220612809463162,\n",
              " 0.38786838605913326,\n",
              " 0.32225270127555106,\n",
              " 0.23053001914523252,\n",
              " 0.12013116587858108]"
            ]
          },
          "execution_count": 48,
          "metadata": {},
          "output_type": "execute_result"
        }
      ],
      "source": [
        "print(\"Exact Eigen Vectors: \")\n",
        "eigen_exact = eigen_vectors(10)\n",
        "eigen_exact.tolist()"
      ]
    },
    {
      "cell_type": "code",
      "execution_count": 49,
      "metadata": {},
      "outputs": [
        {
          "name": "stdout",
          "output_type": "stream",
          "text": [
            "Difference between QR Algorithm and Exact Values: \n"
          ]
        },
        {
          "data": {
            "text/plain": [
              "[5.551115123125783e-17,\n",
              " 1.1102230246251565e-16,\n",
              " 1.1102230246251565e-16,\n",
              " 5.551115123125783e-17,\n",
              " 5.551115123125783e-17,\n",
              " 5.551115123125783e-17,\n",
              " 5.551115123125783e-17,\n",
              " 0.0,\n",
              " 1.3877787807814457e-16,\n",
              " 2.7755575615628914e-17]"
            ]
          },
          "execution_count": 49,
          "metadata": {},
          "output_type": "execute_result"
        }
      ],
      "source": [
        "difference_vectors = abs(np.subtract(eigen_from_inv_iter, eigen_exact))\n",
        "print(\"Difference between QR Algorithm and Exact Values: \")\n",
        "difference_vectors.tolist()"
      ]
    }
  ],
  "metadata": {
    "colab": {
      "name": "FHP6QZ_Num_analysis_assignment_04.ipynb",
      "provenance": []
    },
    "kernelspec": {
      "display_name": "Python 3.9.5 64-bit",
      "language": "python",
      "name": "python3"
    },
    "language_info": {
      "codemirror_mode": {
        "name": "ipython",
        "version": 3
      },
      "file_extension": ".py",
      "mimetype": "text/x-python",
      "name": "python",
      "nbconvert_exporter": "python",
      "pygments_lexer": "ipython3",
      "version": "3.9.5"
    },
    "vscode": {
      "interpreter": {
        "hash": "06b52556b0198e5590da0b57d40c505500efc10bc0764603b68b7ee1001d9658"
      }
    }
  },
  "nbformat": 4,
  "nbformat_minor": 0
}
